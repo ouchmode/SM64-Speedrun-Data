{
 "cells": [
  {
   "cell_type": "markdown",
   "metadata": {
    "id": "xSYZ2GF7ZkfT"
   },
   "source": [
    "#  **SM64 Speedruns - A SQL and Python Project**\n",
    "\n",
    "\\** **Ignore any redundant / unnecessary comments, they're mainly just notes for me because I am a noob :]**\n",
    "\n",
    "Learning Python for data analysis / science and wanted to test what I've learned so far on a personal project using a dataset from Kaggle. (https://www.kaggle.com/code/mcpenguin/super-mario-64-speedruns-data-collection) This dataset\n",
    "\\\n",
    "\\\n",
    "Updated the dataset files to include a RUN_ID column to later replace the original \"id\" column. Updated the PLACE column for each PLATFORM. On speedrun.com the platforms are in separate tabs with their own placing.\n",
    "\\\n",
    "\\\n",
    "\\\n",
    "I also haven't used git in a while so this is also sort of a guinea pig for re-learning that."
   ]
  },
  {
   "cell_type": "markdown",
   "metadata": {},
   "source": [
    "## **Gather and Cleanse Data**"
   ]
  },
  {
   "cell_type": "markdown",
   "metadata": {
    "id": "t7s5LlY3xn9p"
   },
   "source": [
    "### **SQLite Connection**"
   ]
  },
  {
   "cell_type": "code",
   "execution_count": 1,
   "metadata": {},
   "outputs": [],
   "source": [
    "import pandas as pd\n",
    "# Learned the purpose of importing an aliased [module].[interface] and then just the [module], but with a diff alias.\n",
    "# -- Mainly to access separate operations of the module. i.e. changing the graph's style with mpl, and access the plotting operations with plt.\n",
    "import matplotlib as mpl\n",
    "import matplotlib.pyplot as plt\n",
    "\n",
    "import sqlite3\n",
    "import os\n",
    "import dateutil, datetime\n",
    "import seaborn as sns\n",
    "import numpy as np\n",
    "\n",
    "# Connection Object to establish connection to a sqlite3 database.\n",
    "connObj = sqlite3.connect('SPEEDRUNS.db')\n",
    "cursorObj = connObj.cursor()\n",
    "\n",
    "%load_ext sql\n",
    "%sql sqlite:///SPEEDRUNS.db"
   ]
  },
  {
   "cell_type": "code",
   "execution_count": 2,
   "metadata": {
    "id": "qZaOoO2SECZX"
   },
   "outputs": [
    {
     "name": "stdout",
     "output_type": "stream",
     "text": [
      " * sqlite:///SPEEDRUNS.db\n",
      "Done.\n"
     ]
    },
    {
     "ename": "PermissionError",
     "evalue": "[WinError 32] The process cannot access the file because it is being used by another process: './Data/ALL_CATEGORIES.csv'",
     "output_type": "error",
     "traceback": [
      "\u001b[1;31m---------------------------------------------------------------------------\u001b[0m",
      "\u001b[1;31mPermissionError\u001b[0m                           Traceback (most recent call last)",
      "Cell \u001b[1;32mIn[2], line 31\u001b[0m\n\u001b[0;32m     29\u001b[0m \u001b[38;5;28;01mif\u001b[39;00m count_result \u001b[38;5;241m>\u001b[39m \u001b[38;5;241m0\u001b[39m:\n\u001b[0;32m     30\u001b[0m     \u001b[38;5;28;01mif\u001b[39;00m os\u001b[38;5;241m.\u001b[39mpath\u001b[38;5;241m.\u001b[39misfile(full_path_to_dataset):\n\u001b[1;32m---> 31\u001b[0m        \u001b[43mos\u001b[49m\u001b[38;5;241;43m.\u001b[39;49m\u001b[43mremove\u001b[49m\u001b[43m(\u001b[49m\u001b[43mfull_path_to_dataset\u001b[49m\u001b[43m)\u001b[49m\n\u001b[0;32m     32\u001b[0m        get_ipython()\u001b[38;5;241m.\u001b[39mrun_line_magic(\u001b[38;5;124m'\u001b[39m\u001b[38;5;124msql\u001b[39m\u001b[38;5;124m'\u001b[39m, \u001b[38;5;124m'\u001b[39m\u001b[38;5;124mDELETE FROM ALL_CAT_SPEEDRUNS\u001b[39m\u001b[38;5;124m'\u001b[39m)\n",
      "\u001b[1;31mPermissionError\u001b[0m: [WinError 32] The process cannot access the file because it is being used by another process: './Data/ALL_CATEGORIES.csv'"
     ]
    }
   ],
   "source": [
    "# Assigning the datasets location for SM64 Speedruns to a variable called \"repo\"\n",
    "repo = r'./Data/'\n",
    "full_path_to_dataset = os.path.join(repo, 'ALL_CATEGORIES.csv')\n",
    "\n",
    "# Checking if there is data already in the table (mainly for testing + it's just a sqlite table)\n",
    "result = %sql SELECT COUNT(*) FROM ALL_CAT_SPEEDRUNS\n",
    "\n",
    "# Extract the count from the result set\n",
    "count_result = result[0][0] if result is not None and len(result) > 0 else 0\n",
    "\n",
    "cursorObj.execute('''CREATE TABLE IF NOT EXISTS ALL_CAT_SPEEDRUNS (\n",
    "    'run_id' INT16 PRIMARY KEY,\n",
    "    'Category' CATEGORY,\n",
    "    'id' INT16,\n",
    "    'place' INT16,\n",
    "    'speedrun_link' VARCHAR(200),\n",
    "    'submitted_date' DATETIME,\n",
    "    'primary_time_seconds' FLOAT64,\n",
    "    'real_time_seconds' FLOAT64,\n",
    "    'player_id' TEXT,\n",
    "    'player_name' TEXT,\n",
    "    'player_country' TEXT,\n",
    "    'platform' CATEGORY,\n",
    "    'verified' BOOL\n",
    "    )''')\n",
    "connObj.commit()\n",
    "\n",
    "# If there is data, delete it\n",
    "if count_result > 0:\n",
    "    if os.path.isfile(full_path_to_dataset):\n",
    "       os.remove(full_path_to_dataset)\n",
    "       %sql DELETE FROM ALL_CAT_SPEEDRUNS"
   ]
  },
  {
   "cell_type": "markdown",
   "metadata": {
    "id": "y0yMNxp-xD-1",
    "jp-MarkdownHeadingCollapsed": true
   },
   "source": [
    "### **Merging Separate .CSV Files Into A Single Pandas DataFrame.**"
   ]
  },
  {
   "cell_type": "markdown",
   "metadata": {
    "id": "Ixz7XI5WzP7X"
   },
   "source": [
    "**Gathering Datasets (.CSV)**"
   ]
  },
  {
   "cell_type": "code",
   "execution_count": null,
   "metadata": {
    "id": "BTzzXmTIw6vU"
   },
   "outputs": [],
   "source": [
    "# Lists files within the specified directory, in this case \"repo\".\n",
    "files_in_repo = os.listdir(repo)\n",
    "\n",
    "# Looping through files_in_repo and assignging it to the csv_files List only if the file ends with .csv.\n",
    "csv_files = [f for f in files_in_repo if f.endswith('.csv')]\n",
    "\n",
    "# List to hold the list of dataframes / csv files.\n",
    "df_list = []"
   ]
  },
  {
   "cell_type": "markdown",
   "metadata": {
    "id": "VsYcndtAJ8Wi"
   },
   "source": [
    "\n",
    "\n",
    "---\n",
    "\n"
   ]
  },
  {
   "cell_type": "markdown",
   "metadata": {
    "id": "p8AOPnExzZOR"
   },
   "source": [
    "**Appending Separate .CSV DataFrames to the \"df_list\" List via For Loop**\n",
    "\n",
    "Found this online because I wasn't sure of the syntax on doing the loop, and the error handling is good, too.\n",
    "\n",
    "It all makes sense though - here's my walkthrough:\n",
    "\n",
    "1.   Looping through the list of `csv_files` within `repo`, assigning each to \"`csv`\".\n",
    "\n",
    "2.   The path to the file is created by joining the `repo` path and the .csv filename.\n",
    "\n",
    "1.   Creating a DataFrame (for each iteration of `csv_files`) using the `read_csv()` function and the `file_path` variable.\n",
    "2.   The DataFrame is appended to the DataFrame List `df_list`.\n",
    "\n",
    "1.   `try` / `except` = error handling on the encoding types for the files."
   ]
  },
  {
   "cell_type": "code",
   "execution_count": null,
   "metadata": {
    "id": "i_RtsondzSwd"
   },
   "outputs": [],
   "source": [
    "for csv in csv_files:\n",
    "    file_path = os.path.join(repo, csv)\n",
    "    try:\n",
    "        # Try reading the file using default UTF-8 encoding\n",
    "        df = pd.read_csv(file_path)\n",
    "        df_list.append(df)\n",
    "    except UnicodeDecodeError:\n",
    "        try:\n",
    "            # If UTF-8 fails, try reading the file using UTF-16 encoding with tab separator\n",
    "            df = pd.read_csv(file_path, sep='\\t', encoding='utf-16')\n",
    "            df_list.append(df)\n",
    "        except Exception as e:\n",
    "            # Learned that \"f\" before a string allows the use of variables (wrapped in curly braces)\n",
    "            print(f\"Could not read file {csv} because of error: {e}\")\n",
    "    except Exception as e:\n",
    "        print(f\"Could not read file {csv} because of error: {e}\")"
   ]
  },
  {
   "cell_type": "markdown",
   "metadata": {
    "id": "TIds9nF_KAj_"
   },
   "source": [
    "\n",
    "\n",
    "---\n",
    "\n"
   ]
  },
  {
   "cell_type": "markdown",
   "metadata": {
    "id": "jcXFZhq02N4x"
   },
   "source": [
    "**Concatenating the DataFrames and Saving to a Single .CSV File**"
   ]
  },
  {
   "cell_type": "code",
   "execution_count": null,
   "metadata": {
    "id": "PAnDXNQ722Fq"
   },
   "outputs": [],
   "source": [
    "# Concat all data into a single DataFrame\n",
    "complete_df = pd.concat(df_list, ignore_index=True)"
   ]
  },
  {
   "cell_type": "markdown",
   "metadata": {
    "id": "Tin1-RAhKDdC"
   },
   "source": [
    "---"
   ]
  },
  {
   "cell_type": "markdown",
   "metadata": {
    "id": "rgN2dFgiMYSH"
   },
   "source": [
    "### **Cleansing / Restructuring Data**"
   ]
  },
  {
   "cell_type": "code",
   "execution_count": null,
   "metadata": {
    "id": "3PWVTa7MqNzn"
   },
   "outputs": [],
   "source": [
    "# Save the final result to a new .csv file (appears in the G Drive folder after 15-30 sec).\n",
    "complete_df.to_csv(full_path_to_dataset, index=False)\n",
    "\n",
    "# Reading in the '/content/drive/MyDrive/Kaggle/Datasets/SM64 Speedruns/ALL_CATEGORIES.csv' file and storing into a dataframe.\n",
    "df = pd.read_csv(full_path_to_dataset)"
   ]
  },
  {
   "cell_type": "code",
   "execution_count": null,
   "metadata": {
    "colab": {
     "base_uri": "https://localhost:8080/",
     "height": 424
    },
    "id": "XCPzCcFuX_5d",
    "outputId": "cf4a6c5b-ac71-41bf-a3fe-33b05c9040cb"
   },
   "outputs": [],
   "source": [
    "# Dropping columns I do not need. The if statement could check if each col is in the df but i didn't want to list them all. This is just so it doesn't error when testing anyway.\n",
    "if 'speedrun_link' in df:\n",
    "    cols_to_drop = ['id',\n",
    "                    'player_id',\n",
    "                    'speedrun_link',\n",
    "                    'primary_time_seconds']\n",
    "else:\n",
    "    cols_to_drop = []\n",
    "\n",
    "df.drop(cols_to_drop, inplace=True, axis=1)\n",
    "\n",
    "# Renaming the columns a bit.\n",
    "df = df.rename(columns={'run_id': 'ID', 'Category': 'CATEGORY', 'player_name': 'PLAYER_NAME', 'player_country': 'COUNTRY', 'real_time_seconds': 'RUN_TIME', 'submitted_date': 'SUBMISSION_DATE', 'place': 'PLACE', 'platform': 'PLATFORM', 'verified': 'VERIFIED'})\n",
    "\n",
    "# Some players don't have their country set up on speedrun.com so sqlite sets these to NaN. I'd rather it be null / none.\n",
    "cursorObj.execute('''UPDATE ALL_CAT_SPEEDRUNS SET COUNTRY = \"\" WHERE COUNTRY = \"NaN\"''')\n",
    "connObj.commit()"
   ]
  },
  {
   "cell_type": "code",
   "execution_count": null,
   "metadata": {},
   "outputs": [],
   "source": [
    "df.loc[:,'RUN_TIME']"
   ]
  },
  {
   "cell_type": "code",
   "execution_count": null,
   "metadata": {},
   "outputs": [],
   "source": [
    "# Created a function to convert the values in the columns. Before I was looping through the column and executing an UPDATE statement for each row (i'm not as noob now)\n",
    "def seconds_to_time(sec):\n",
    "    return str(datetime.timedelta(seconds=sec))\n",
    "\n",
    "def TrimLastThree(value):\n",
    "    if '.' in value:\n",
    "        return value[:-3]\n",
    "    else:\n",
    "        return value\n",
    "\n",
    "# Fixing up datatypes.\n",
    "# df['PLACE'] = df['PLACE'].astype('int16')\n",
    "df['ID'] = df['ID'].astype('int16')\n",
    "df['SUBMISSION_DATE'] = pd.to_datetime(df['SUBMISSION_DATE']).dt.strftime(\"%Y-%m-%d\")\n",
    "df['CATEGORY'] = df['CATEGORY'].astype('category')\n",
    "df['PLATFORM'] = df['PLATFORM'].astype('category')\n",
    "df['VERIFIED'] = df['VERIFIED'].astype('category')\n",
    "df['COUNTRY'] = df['COUNTRY'].astype('str')\n",
    "df['PLAYER_NAME'] = df['PLAYER_NAME'].astype('str')\n",
    "df['RUN_TIME'] = df['RUN_TIME'].apply(seconds_to_time)\n",
    "df['RUN_TIME'] = df['RUN_TIME'].astype('str')\n",
    "df['RUN_TIME'] = df['RUN_TIME'].apply(TrimLastThree)\n",
    "\n",
    "df.loc[:,'RUN_TIME']"
   ]
  },
  {
   "cell_type": "markdown",
   "metadata": {},
   "source": [
    "**Date / Time Cleanup**\n",
    "\n",
    "I was originally going to remove the first two chars as well (the 0:) hours for 0/1 star, but then realized that there are times over an hour."
   ]
  },
  {
   "cell_type": "code",
   "execution_count": null,
   "metadata": {},
   "outputs": [],
   "source": [
    "# Updating the table with our latest updates to the dataframe.\n",
    "df.to_sql('ALL_CAT_SPEEDRUNS', connObj, if_exists='replace', index=False)"
   ]
  },
  {
   "cell_type": "markdown",
   "metadata": {},
   "source": [
    "## **Analyze Data (mainly a fun SQL test I made)**"
   ]
  },
  {
   "cell_type": "code",
   "execution_count": null,
   "metadata": {},
   "outputs": [],
   "source": [
    "# Baseline table post-cleanse. This is what is currently in ALL_CAT_SPEEDRUNS.\n",
    "df.info()"
   ]
  },
  {
   "cell_type": "markdown",
   "metadata": {
    "jp-MarkdownHeadingCollapsed": true
   },
   "source": [
    "#### **Q1: Filter for only Verified runs, how many non-verified runs are there?**"
   ]
  },
  {
   "cell_type": "code",
   "execution_count": null,
   "metadata": {
    "scrolled": true
   },
   "outputs": [],
   "source": [
    "%%sql  \n",
    "/*Only verified runs + the total count of all verified and non-verified runs.*/\n",
    "\n",
    "/*\n",
    "    VERIFIED: 2097\n",
    "    NON-VERIFIED: 177\n",
    "*/\n",
    "    \n",
    "SELECT *,\n",
    "    (SELECT COUNT(*) FROM ALL_CAT_SPEEDRUNS WHERE VERIFIED = \"Yes\") AS TOTAL_VERIFIED_COUNT,\n",
    "    (SELECT COUNT(*) FROM ALL_CAT_SPEEDRUNS WHERE VERIFIED = \"No\") AS TOTAL_NON_VERIFIED_COUNT\n",
    "FROM ALL_CAT_SPEEDRUNS\n",
    "WHERE VERIFIED = \"Yes\"\n",
    "ORDER BY ID DESC\n",
    "LIMIT 5;"
   ]
  },
  {
   "cell_type": "markdown",
   "metadata": {
    "jp-MarkdownHeadingCollapsed": true
   },
   "source": [
    "#### **Q2: Find players who appear in more than one category.**\n",
    "*Also included a secondary question within this that asks to grab the total number of players that have runs in 5, 4, 3, etc. categories.*"
   ]
  },
  {
   "cell_type": "code",
   "execution_count": null,
   "metadata": {},
   "outputs": [],
   "source": [
    "%%sql\n",
    "\n",
    "/*Learned about the GROUP_CONCAT() function which lets you concat grouped values.\n",
    "  In this, Im using it to display all of the categories that a user has entered a run in.*/\n",
    "\n",
    "SELECT GROUP_CONCAT(CATEGORY) AS CATS_RAN_BY_PLAYER, PLAYER_NAME, COUNT(PLAYER_NAME) AS NUM_OF_CATEGORIES\n",
    "FROM ALL_CAT_SPEEDRUNS\n",
    "GROUP BY PLAYER_NAME\n",
    "HAVING COUNT(PLAYER_NAME) BETWEEN 1 AND 5\n",
    "ORDER BY NUM_OF_CATEGORIES DESC;"
   ]
  },
  {
   "cell_type": "code",
   "execution_count": null,
   "metadata": {},
   "outputs": [],
   "source": [
    "%%sql\n",
    "\n",
    "/*\n",
    "    Going the extra mile here for more fun\n",
    "    The number of players that are in 1 or more categories:\n",
    "        5: 88\n",
    "        4: 91\n",
    "        3: 145\n",
    "        2: 254\n",
    "        1: 353\n",
    "*/\n",
    "\n",
    "SELECT CAT_COUNT, COUNT(PLAYER_NAME) AS NUM_OF_PLAYERS\n",
    "FROM \n",
    "(\n",
    "    SELECT CATEGORY, PLAYER_NAME, COUNT(CATEGORY) AS CAT_COUNT\n",
    "    FROM ALL_CAT_SPEEDRUNS\n",
    "    GROUP BY PLAYER_NAME\n",
    "    HAVING COUNT(PLAYER_NAME) <= 5 AND COUNT(PLAYER_NAME) > 0\n",
    ")\n",
    "GROUP BY CAT_COUNT\n",
    "ORDER BY CAT_COUNT DESC;\n"
   ]
  },
  {
   "cell_type": "markdown",
   "metadata": {},
   "source": [
    "#### **Q3: Find the top 3 players in each category from each country.**\n",
    "*One answer by transposing and the other by using window functions (i.e. RANK())*\n",
    "\n",
    "*Note: some times may not line up as they are on speedrun.com as the dataset is a bit dated.*"
   ]
  },
  {
   "cell_type": "code",
   "execution_count": 27,
   "metadata": {},
   "outputs": [],
   "source": [
    "pd.set_option(\"display.max_rows\", None)\n"
   ]
  },
  {
   "cell_type": "code",
   "execution_count": 28,
   "metadata": {},
   "outputs": [
    {
     "name": "stdout",
     "output_type": "stream",
     "text": [
      " * sqlite:///SPEEDRUNS.db\n",
      "Done.\n"
     ]
    },
    {
     "data": {
      "text/html": [
       "<table>\n",
       "    <thead>\n",
       "        <tr>\n",
       "            <th>PLATFORM</th>\n",
       "            <th>CATEGORY</th>\n",
       "            <th>COUNTRY</th>\n",
       "            <th>FIRST</th>\n",
       "            <th>SECOND</th>\n",
       "            <th>THIRD</th>\n",
       "        </tr>\n",
       "    </thead>\n",
       "    <tbody>\n",
       "        <tr>\n",
       "            <td>EMU</td>\n",
       "            <td>120 Star</td>\n",
       "            <td>Australia</td>\n",
       "            <td>None</td>\n",
       "            <td>Nebula</td>\n",
       "            <td>None</td>\n",
       "        </tr>\n",
       "        <tr>\n",
       "            <td>VC</td>\n",
       "            <td>0 Star</td>\n",
       "            <td>Australia</td>\n",
       "            <td>None</td>\n",
       "            <td>None</td>\n",
       "            <td>PhoenixAUS</td>\n",
       "        </tr>\n",
       "        <tr>\n",
       "            <td>N64</td>\n",
       "            <td>0 Star</td>\n",
       "            <td>Canada</td>\n",
       "            <td>Suigi</td>\n",
       "            <td>None</td>\n",
       "            <td>None</td>\n",
       "        </tr>\n",
       "        <tr>\n",
       "            <td>N64</td>\n",
       "            <td>1 Star</td>\n",
       "            <td>Canada</td>\n",
       "            <td>Suigi</td>\n",
       "            <td>None</td>\n",
       "            <td>None</td>\n",
       "        </tr>\n",
       "        <tr>\n",
       "            <td>N64</td>\n",
       "            <td>16 Star</td>\n",
       "            <td>Canada</td>\n",
       "            <td>Suigi</td>\n",
       "            <td>None</td>\n",
       "            <td>None</td>\n",
       "        </tr>\n",
       "        <tr>\n",
       "            <td>N64</td>\n",
       "            <td>70 Star</td>\n",
       "            <td>Canada</td>\n",
       "            <td>Suigi</td>\n",
       "            <td>None</td>\n",
       "            <td>None</td>\n",
       "        </tr>\n",
       "        <tr>\n",
       "            <td>EMU</td>\n",
       "            <td>1 Star</td>\n",
       "            <td>Germany</td>\n",
       "            <td>Raisn</td>\n",
       "            <td>None</td>\n",
       "            <td>None</td>\n",
       "        </tr>\n",
       "        <tr>\n",
       "            <td>EMU</td>\n",
       "            <td>120 Star</td>\n",
       "            <td>Germany</td>\n",
       "            <td>Raisn</td>\n",
       "            <td>None</td>\n",
       "            <td>None</td>\n",
       "        </tr>\n",
       "        <tr>\n",
       "            <td>EMU</td>\n",
       "            <td>70 Star</td>\n",
       "            <td>Germany</td>\n",
       "            <td>Raisn</td>\n",
       "            <td>None</td>\n",
       "            <td>None</td>\n",
       "        </tr>\n",
       "        <tr>\n",
       "            <td>VC</td>\n",
       "            <td>0 Star</td>\n",
       "            <td>Germany</td>\n",
       "            <td>None</td>\n",
       "            <td>Finnii602</td>\n",
       "            <td>None</td>\n",
       "        </tr>\n",
       "        <tr>\n",
       "            <td>VC</td>\n",
       "            <td>1 Star</td>\n",
       "            <td>Germany</td>\n",
       "            <td>Finnii602</td>\n",
       "            <td>Aleph64</td>\n",
       "            <td>None</td>\n",
       "        </tr>\n",
       "        <tr>\n",
       "            <td>VC</td>\n",
       "            <td>120 Star</td>\n",
       "            <td>Germany</td>\n",
       "            <td>Aleph64</td>\n",
       "            <td>Finnii602</td>\n",
       "            <td>None</td>\n",
       "        </tr>\n",
       "        <tr>\n",
       "            <td>VC</td>\n",
       "            <td>16 Star</td>\n",
       "            <td>Germany</td>\n",
       "            <td>None</td>\n",
       "            <td>None</td>\n",
       "            <td>Finnii602</td>\n",
       "        </tr>\n",
       "        <tr>\n",
       "            <td>VC</td>\n",
       "            <td>70 Star</td>\n",
       "            <td>Germany</td>\n",
       "            <td>Finnii602</td>\n",
       "            <td>None</td>\n",
       "            <td>Aleph64</td>\n",
       "        </tr>\n",
       "        <tr>\n",
       "            <td>EMU</td>\n",
       "            <td>0 Star</td>\n",
       "            <td>Italy</td>\n",
       "            <td>None</td>\n",
       "            <td>ZUMMI</td>\n",
       "            <td>None</td>\n",
       "        </tr>\n",
       "        <tr>\n",
       "            <td>EMU</td>\n",
       "            <td>1 Star</td>\n",
       "            <td>Italy</td>\n",
       "            <td>None</td>\n",
       "            <td>None</td>\n",
       "            <td>ZUMMI</td>\n",
       "        </tr>\n",
       "        <tr>\n",
       "            <td>N64</td>\n",
       "            <td>0 Star</td>\n",
       "            <td>Italy</td>\n",
       "            <td>None</td>\n",
       "            <td>None</td>\n",
       "            <td>cjrokokomero</td>\n",
       "        </tr>\n",
       "        <tr>\n",
       "            <td>N64</td>\n",
       "            <td>1 Star</td>\n",
       "            <td>Italy</td>\n",
       "            <td>None</td>\n",
       "            <td>None</td>\n",
       "            <td>cjrokokomero</td>\n",
       "        </tr>\n",
       "        <tr>\n",
       "            <td>EMU</td>\n",
       "            <td>70 Star</td>\n",
       "            <td>Japan</td>\n",
       "            <td>None</td>\n",
       "            <td>None</td>\n",
       "            <td>taihou</td>\n",
       "        </tr>\n",
       "        <tr>\n",
       "            <td>N64</td>\n",
       "            <td>120 Star</td>\n",
       "            <td>Japan</td>\n",
       "            <td>Karin</td>\n",
       "            <td>None</td>\n",
       "            <td>None</td>\n",
       "        </tr>\n",
       "        <tr>\n",
       "            <td>N64</td>\n",
       "            <td>70 Star</td>\n",
       "            <td>Japan</td>\n",
       "            <td>None</td>\n",
       "            <td>ikori_o</td>\n",
       "            <td>None</td>\n",
       "        </tr>\n",
       "        <tr>\n",
       "            <td>VC</td>\n",
       "            <td>70 Star</td>\n",
       "            <td>Panama</td>\n",
       "            <td>None</td>\n",
       "            <td>RianDiCielo</td>\n",
       "            <td>None</td>\n",
       "        </tr>\n",
       "        <tr>\n",
       "            <td>EMU</td>\n",
       "            <td>120 Star</td>\n",
       "            <td>Poland</td>\n",
       "            <td>None</td>\n",
       "            <td>None</td>\n",
       "            <td>Sigotu</td>\n",
       "        </tr>\n",
       "        <tr>\n",
       "            <td>EMU</td>\n",
       "            <td>70 Star</td>\n",
       "            <td>Spain</td>\n",
       "            <td>None</td>\n",
       "            <td>Zhilkan</td>\n",
       "            <td>None</td>\n",
       "        </tr>\n",
       "        <tr>\n",
       "            <td>EMU</td>\n",
       "            <td>0 Star</td>\n",
       "            <td>United States</td>\n",
       "            <td>None</td>\n",
       "            <td>None</td>\n",
       "            <td>TriforceTK</td>\n",
       "        </tr>\n",
       "        <tr>\n",
       "            <td>N64</td>\n",
       "            <td>1 Star</td>\n",
       "            <td>United States</td>\n",
       "            <td>None</td>\n",
       "            <td>Tag609</td>\n",
       "            <td>None</td>\n",
       "        </tr>\n",
       "        <tr>\n",
       "            <td>N64</td>\n",
       "            <td>120 Star</td>\n",
       "            <td>United States</td>\n",
       "            <td>None</td>\n",
       "            <td>None</td>\n",
       "            <td>Liam</td>\n",
       "        </tr>\n",
       "        <tr>\n",
       "            <td>N64</td>\n",
       "            <td>16 Star</td>\n",
       "            <td>United States</td>\n",
       "            <td>None</td>\n",
       "            <td>Slipperynip</td>\n",
       "            <td>None</td>\n",
       "        </tr>\n",
       "        <tr>\n",
       "            <td>VC</td>\n",
       "            <td>120 Star</td>\n",
       "            <td>United States</td>\n",
       "            <td>None</td>\n",
       "            <td>None</td>\n",
       "            <td>Odme_</td>\n",
       "        </tr>\n",
       "        <tr>\n",
       "            <td>VC</td>\n",
       "            <td>0 Star</td>\n",
       "            <td>Uzbekistan</td>\n",
       "            <td>CyanogenSm64</td>\n",
       "            <td>None</td>\n",
       "            <td>None</td>\n",
       "        </tr>\n",
       "        <tr>\n",
       "            <td>VC</td>\n",
       "            <td>1 Star</td>\n",
       "            <td>Uzbekistan</td>\n",
       "            <td>None</td>\n",
       "            <td>None</td>\n",
       "            <td>CyanogenSm64</td>\n",
       "        </tr>\n",
       "        <tr>\n",
       "            <td>EMU</td>\n",
       "            <td>0 Star</td>\n",
       "            <td>nan</td>\n",
       "            <td>DuckTapeDuck</td>\n",
       "            <td>None</td>\n",
       "            <td>None</td>\n",
       "        </tr>\n",
       "        <tr>\n",
       "            <td>EMU</td>\n",
       "            <td>1 Star</td>\n",
       "            <td>nan</td>\n",
       "            <td>None</td>\n",
       "            <td>DuckTapeDuck</td>\n",
       "            <td>None</td>\n",
       "        </tr>\n",
       "        <tr>\n",
       "            <td>N64</td>\n",
       "            <td>0 Star</td>\n",
       "            <td>nan</td>\n",
       "            <td>None</td>\n",
       "            <td>KANNO</td>\n",
       "            <td>None</td>\n",
       "        </tr>\n",
       "        <tr>\n",
       "            <td>N64</td>\n",
       "            <td>120 Star</td>\n",
       "            <td>nan</td>\n",
       "            <td>None</td>\n",
       "            <td>marlene</td>\n",
       "            <td>None</td>\n",
       "        </tr>\n",
       "    </tbody>\n",
       "</table>"
      ],
      "text/plain": [
       "[('EMU', '120 Star', 'Australia', None, 'Nebula', None),\n",
       " ('VC', '0 Star', 'Australia', None, None, 'PhoenixAUS'),\n",
       " ('N64', '0 Star', 'Canada', 'Suigi', None, None),\n",
       " ('N64', '1 Star', 'Canada', 'Suigi', None, None),\n",
       " ('N64', '16 Star', 'Canada', 'Suigi', None, None),\n",
       " ('N64', '70 Star', 'Canada', 'Suigi', None, None),\n",
       " ('EMU', '1 Star', 'Germany', 'Raisn', None, None),\n",
       " ('EMU', '120 Star', 'Germany', 'Raisn', None, None),\n",
       " ('EMU', '70 Star', 'Germany', 'Raisn', None, None),\n",
       " ('VC', '0 Star', 'Germany', None, 'Finnii602', None),\n",
       " ('VC', '1 Star', 'Germany', 'Finnii602', 'Aleph64', None),\n",
       " ('VC', '120 Star', 'Germany', 'Aleph64', 'Finnii602', None),\n",
       " ('VC', '16 Star', 'Germany', None, None, 'Finnii602'),\n",
       " ('VC', '70 Star', 'Germany', 'Finnii602', None, 'Aleph64'),\n",
       " ('EMU', '0 Star', 'Italy', None, 'ZUMMI', None),\n",
       " ('EMU', '1 Star', 'Italy', None, None, 'ZUMMI'),\n",
       " ('N64', '0 Star', 'Italy', None, None, 'cjrokokomero'),\n",
       " ('N64', '1 Star', 'Italy', None, None, 'cjrokokomero'),\n",
       " ('EMU', '70 Star', 'Japan', None, None, 'taihou'),\n",
       " ('N64', '120 Star', 'Japan', 'Karin', None, None),\n",
       " ('N64', '70 Star', 'Japan', None, 'ikori_o', None),\n",
       " ('VC', '70 Star', 'Panama', None, 'RianDiCielo', None),\n",
       " ('EMU', '120 Star', 'Poland', None, None, 'Sigotu'),\n",
       " ('EMU', '70 Star', 'Spain', None, 'Zhilkan', None),\n",
       " ('EMU', '0 Star', 'United States', None, None, 'TriforceTK'),\n",
       " ('N64', '1 Star', 'United States', None, 'Tag609', None),\n",
       " ('N64', '120 Star', 'United States', None, None, 'Liam'),\n",
       " ('N64', '16 Star', 'United States', None, 'Slipperynip', None),\n",
       " ('VC', '120 Star', 'United States', None, None, 'Odme_'),\n",
       " ('VC', '0 Star', 'Uzbekistan', 'CyanogenSm64', None, None),\n",
       " ('VC', '1 Star', 'Uzbekistan', None, None, 'CyanogenSm64'),\n",
       " ('EMU', '0 Star', 'nan', 'DuckTapeDuck', None, None),\n",
       " ('EMU', '1 Star', 'nan', None, 'DuckTapeDuck', None),\n",
       " ('N64', '0 Star', 'nan', None, 'KANNO', None),\n",
       " ('N64', '120 Star', 'nan', None, 'marlene', None)]"
      ]
     },
     "execution_count": 28,
     "metadata": {},
     "output_type": "execute_result"
    }
   ],
   "source": [
    "%%sql\n",
    "\n",
    "/*There are other countries other than five listed below, but the players in those countries don't have a \n",
    "first, second or third place time.*/\n",
    "\n",
    "SELECT PLATFORM, CATEGORY, COUNTRY,\n",
    "    GROUP_CONCAT(CASE WHEN PLACE = 1 THEN PLAYER_NAME END) as FIRST,\n",
    "    GROUP_CONCAT(CASE WHEN PLACE = 2 THEN PLAYER_NAME END) as SECOND,\n",
    "    GROUP_CONCAT(CASE WHEN PLACE = 3 THEN PLAYER_NAME END) as THIRD\n",
    "FROM ALL_CAT_SPEEDRUNS\n",
    "GROUP BY PLATFORM, CATEGORY, COUNTRY\n",
    "HAVING PLACE IN ('1', '2', '3')\n",
    "ORDER BY COUNTRY ASC;"
   ]
  },
  {
   "cell_type": "code",
   "execution_count": 9,
   "metadata": {},
   "outputs": [
    {
     "name": "stdout",
     "output_type": "stream",
     "text": [
      " * sqlite:///SPEEDRUNS.db\n",
      "Done.\n"
     ]
    },
    {
     "data": {
      "text/html": [
       "<table>\n",
       "    <thead>\n",
       "        <tr>\n",
       "            <th>PLAYER_NAME</th>\n",
       "            <th>COUNTRY</th>\n",
       "            <th>NUM_OF_1ST_PLACE</th>\n",
       "            <th>NUM_OF_2ND_PLACE</th>\n",
       "            <th>NUM_OF_3RD_PLACE</th>\n",
       "        </tr>\n",
       "    </thead>\n",
       "    <tbody>\n",
       "        <tr>\n",
       "            <td>Raisn</td>\n",
       "            <td>Germany</td>\n",
       "            <td>3</td>\n",
       "            <td>2</td>\n",
       "            <td>1</td>\n",
       "        </tr>\n",
       "        <tr>\n",
       "            <td>Suigi</td>\n",
       "            <td>Canada</td>\n",
       "            <td>1</td>\n",
       "            <td>0</td>\n",
       "            <td>0</td>\n",
       "        </tr>\n",
       "        <tr>\n",
       "            <td>Karin</td>\n",
       "            <td>Japan</td>\n",
       "            <td>1</td>\n",
       "            <td>0</td>\n",
       "            <td>0</td>\n",
       "        </tr>\n",
       "        <tr>\n",
       "            <td>KANNO</td>\n",
       "            <td>nan</td>\n",
       "            <td>1</td>\n",
       "            <td>1</td>\n",
       "            <td>0</td>\n",
       "        </tr>\n",
       "        <tr>\n",
       "            <td>CyanogenSm64</td>\n",
       "            <td>Uzbekistan</td>\n",
       "            <td>1</td>\n",
       "            <td>0</td>\n",
       "            <td>1</td>\n",
       "        </tr>\n",
       "        <tr>\n",
       "            <td>taihou</td>\n",
       "            <td>Japan</td>\n",
       "            <td>0</td>\n",
       "            <td>1</td>\n",
       "            <td>1</td>\n",
       "        </tr>\n",
       "        <tr>\n",
       "            <td>cjrokokomero</td>\n",
       "            <td>Italy</td>\n",
       "            <td>0</td>\n",
       "            <td>1</td>\n",
       "            <td>1</td>\n",
       "        </tr>\n",
       "        <tr>\n",
       "            <td>Zhilkan</td>\n",
       "            <td>Spain</td>\n",
       "            <td>0</td>\n",
       "            <td>1</td>\n",
       "            <td>0</td>\n",
       "        </tr>\n",
       "        <tr>\n",
       "            <td>ZUMMI</td>\n",
       "            <td>Italy</td>\n",
       "            <td>0</td>\n",
       "            <td>0</td>\n",
       "            <td>1</td>\n",
       "        </tr>\n",
       "        <tr>\n",
       "            <td>Sigotu</td>\n",
       "            <td>Poland</td>\n",
       "            <td>0</td>\n",
       "            <td>0</td>\n",
       "            <td>1</td>\n",
       "        </tr>\n",
       "        <tr>\n",
       "            <td>RianDiCielo</td>\n",
       "            <td>Panama</td>\n",
       "            <td>0</td>\n",
       "            <td>1</td>\n",
       "            <td>0</td>\n",
       "        </tr>\n",
       "        <tr>\n",
       "            <td>Nebula</td>\n",
       "            <td>Australia</td>\n",
       "            <td>0</td>\n",
       "            <td>1</td>\n",
       "            <td>0</td>\n",
       "        </tr>\n",
       "        <tr>\n",
       "            <td>DuckTapeDuck</td>\n",
       "            <td>nan</td>\n",
       "            <td>0</td>\n",
       "            <td>1</td>\n",
       "            <td>0</td>\n",
       "        </tr>\n",
       "    </tbody>\n",
       "</table>"
      ],
      "text/plain": [
       "[('Raisn', 'Germany', 3, 2, 1),\n",
       " ('Suigi', 'Canada', 1, 0, 0),\n",
       " ('Karin', 'Japan', 1, 0, 0),\n",
       " ('KANNO', 'nan', 1, 1, 0),\n",
       " ('CyanogenSm64', 'Uzbekistan', 1, 0, 1),\n",
       " ('taihou', 'Japan', 0, 1, 1),\n",
       " ('cjrokokomero', 'Italy', 0, 1, 1),\n",
       " ('Zhilkan', 'Spain', 0, 1, 0),\n",
       " ('ZUMMI', 'Italy', 0, 0, 1),\n",
       " ('Sigotu', 'Poland', 0, 0, 1),\n",
       " ('RianDiCielo', 'Panama', 0, 1, 0),\n",
       " ('Nebula', 'Australia', 0, 1, 0),\n",
       " ('DuckTapeDuck', 'nan', 0, 1, 0)]"
      ]
     },
     "execution_count": 9,
     "metadata": {},
     "output_type": "execute_result"
    }
   ],
   "source": [
    "%%sql\n",
    "\n",
    "/*Finding how many times a player is 1st, 2nd or 3rd in a category.*/\n",
    "\n",
    "SELECT PLAYER_NAME, COUNTRY, COUNT(FIRST) AS NUM_OF_1ST_PLACE, COUNT(SECOND) AS NUM_OF_2ND_PLACE, COUNT(THIRD) AS NUM_OF_3RD_PLACE\n",
    "FROM \n",
    "(\n",
    "    SELECT PLAYER_NAME, CATEGORY, COUNTRY,\n",
    "        GROUP_CONCAT(CASE WHEN PLACE == 1 THEN PLAYER_NAME END) as FIRST,\n",
    "        GROUP_CONCAT(CASE WHEN PLACE == 2 THEN PLAYER_NAME END) as SECOND,\n",
    "        GROUP_CONCAT(CASE WHEN PLACE == 3 THEN PLAYER_NAME END) as THIRD\n",
    "    FROM ALL_CAT_SPEEDRUNS\n",
    "    GROUP BY CATEGORY, COUNTRY\n",
    "    HAVING PLACE IN (1, 2, 3) AND COUNTRY IS NOT NULL \n",
    "    ORDER BY COUNTRY ASC\n",
    ") as top3Table\n",
    "GROUP BY PLAYER_NAME\n",
    "ORDER BY NUM_OF_1ST_PLACE desc;"
   ]
  },
  {
   "cell_type": "markdown",
   "metadata": {},
   "source": [
    "#### **Q4: Retrieve the first place times per category for each platform (N64, EMU, VC)**"
   ]
  },
  {
   "cell_type": "code",
   "execution_count": null,
   "metadata": {},
   "outputs": [],
   "source": [
    "%%sql\n",
    "\n",
    "/*For some reason this players time was changed to a lower value. I spot-checked a bunch before and after their time in the dataset and\n",
    "everyone elses time seems fine. Not sure what went wrong there.*/\n",
    "\n",
    "UPDATE ALL_CAT_SPEEDRUNS\n",
    "    SET RUN_TIME = \"1:36:48\"\n",
    "    WHERE ID = \"1770\";"
   ]
  },
  {
   "cell_type": "code",
   "execution_count": null,
   "metadata": {},
   "outputs": [],
   "source": [
    "%%sql\n",
    "\n",
    "/*This is essentially it. This is something thatd be better viewed in a chart or graph.*/\n",
    "\n",
    "SELECT CATEGORY,\n",
    "    MIN(CASE WHEN PLATFORM = \"EMU\" THEN RUN_TIME END) AS EMU,\n",
    "    MIN(CASE WHEN PLATFORM = \"N64\" THEN RUN_TIME END) AS N64,\n",
    "    MIN(CASE WHEN PLATFORM = \"VC\" THEN RUN_TIME END) AS VC\n",
    "FROM\n",
    "(\n",
    "    SELECT *\n",
    "    FROM ALL_CAT_SPEEDRUNS\n",
    "    WHERE VERIFIED = \"Yes\" AND SUBMISSION_DATE IS NOT NULL AND PLAYER_NAME IS NOT NULL AND COUNTRY IS NOT NULL\n",
    ")\n",
    "GROUP BY CATEGORY"
   ]
  },
  {
   "cell_type": "markdown",
   "metadata": {},
   "source": [
    "#### **Q5: Who has held the N64 World Record in each category the longest?**"
   ]
  },
  {
   "cell_type": "code",
   "execution_count": null,
   "metadata": {},
   "outputs": [],
   "source": [
    "%%sql\n",
    "\n",
    "/*\n",
    "     0: Suigi\n",
    "     1: Suigi\n",
    "     16: Suigi\n",
    "     70: Suigi\n",
    "     120: Karin\n",
    "*/\n",
    "\n",
    "SELECT \n",
    "    PLATFORM,\n",
    "    PLAYER_NAME, \n",
    "    CATEGORY, \n",
    "    PLACE, \n",
    "    RUN_TIME, \n",
    "    SUBMISSION_DATE, \n",
    "    --Casting the rounded value of the difference between the current date and the submission date to an integer to get a whole number.\n",
    "    CAST(ROUND(julianday('now') - julianday(SUBMISSION_DATE)) AS INTEGER) AS DAYS_RECORD_HELD\n",
    "FROM ALL_CAT_SPEEDRUNS\n",
    "GROUP BY CATEGORY, PLATFORM\n",
    "HAVING PLACE == 1 AND PLATFORM == \"N64\"\n",
    "ORDER BY CATEGORY DESC;"
   ]
  },
  {
   "cell_type": "markdown",
   "metadata": {},
   "source": [
    "## **Visualizing Data Using *Matplotlib* and *Seaborn* (extra)**"
   ]
  },
  {
   "cell_type": "code",
   "execution_count": null,
   "metadata": {},
   "outputs": [],
   "source": [
    "query = pd.read_sql(\n",
    "    '''\n",
    "    SELECT\n",
    "        PLATFORM,\n",
    "        PLAYER_NAME,\n",
    "        CATEGORY,\n",
    "        PLACE,\n",
    "        RUN_TIME,\n",
    "        SUBMISSION_DATE,\n",
    "        CAST(ROUND(julianday() - julianday(SUBMISSION_DATE)) AS INTEGER) AS DAYS_RECORD_HELD\n",
    "    FROM ALL_CAT_SPEEDRUNS\n",
    "    GROUP BY PLATFORM, CATEGORY\n",
    "    HAVING MIN(PLACE) == 1 AND PLATFORM = \"N64\"\n",
    "    ORDER BY CATEGORY DESC;\n",
    "    ''',\n",
    "    connObj\n",
    ")\n",
    "\n",
    "query_2 = pd.read_sql(\n",
    "    '''\n",
    "    SELECT CATEGORY,\n",
    "        MIN(CASE WHEN PLATFORM = \"EMU\" THEN RUN_TIME END) AS EMU,\n",
    "        MIN(CASE WHEN PLATFORM = \"N64\" THEN RUN_TIME END) AS N64,\n",
    "        MIN(CASE WHEN PLATFORM = \"VC\" THEN RUN_TIME END) AS VC\n",
    "    FROM\n",
    "    (\n",
    "        SELECT *\n",
    "        FROM ALL_CAT_SPEEDRUNS\n",
    "        WHERE VERIFIED = \"Yes\" AND SUBMISSION_DATE IS NOT NULL AND PLAYER_NAME IS NOT NULL AND COUNTRY IS NOT NULL\n",
    "    )\n",
    "    GROUP BY CATEGORY\n",
    "    ''',\n",
    "    connObj\n",
    ")\n",
    "\n",
    "df_viz = pd.DataFrame(query)\n",
    "df_viz_2 = pd.DataFrame(query_2)"
   ]
  },
  {
   "cell_type": "code",
   "execution_count": null,
   "metadata": {
    "editable": true,
    "scrolled": true,
    "slideshow": {
     "slide_type": ""
    },
    "tags": []
   },
   "outputs": [],
   "source": [
    "df_viz"
   ]
  },
  {
   "cell_type": "code",
   "execution_count": null,
   "metadata": {},
   "outputs": [],
   "source": [
    "df_viz_2"
   ]
  },
  {
   "cell_type": "code",
   "execution_count": null,
   "metadata": {},
   "outputs": [],
   "source": [
    "x1 = df_viz[df_viz['PLATFORM'] == \"N64\"]['CATEGORY']\n",
    "y1 = df_viz[df_viz['PLATFORM'] == \"N64\"]['RUN_TIME']\n",
    "x2 = df_viz[df_viz['PLATFORM'] == \"EMU\"]['CATEGORY']\n",
    "y2 = df_viz[df_viz['PLATFORM'] == \"EMU\"]['RUN_TIME']\n",
    "x3 = df_viz[df_viz['PLATFORM'] == \"VC\"]['CATEGORY']\n",
    "y3 = df_viz[df_viz['PLATFORM'] == \"VC\"]['RUN_TIME']\n",
    "\n",
    "# Plotting\n",
    "plt.title(\"First Places Times Per Category (Each Platform)\")\n",
    "plt.xlabel(\"Category\")\n",
    "plt.ylabel(\"Run Time\")\n",
    "plt.legend()\n",
    "\n",
    "plt.show()"
   ]
  },
  {
   "cell_type": "code",
   "execution_count": null,
   "metadata": {},
   "outputs": [],
   "source": [
    "x = df_viz['CATEGORY']\n",
    "y = df_viz['DAYS_RECORD_HELD']\n",
    "\n",
    "plt.plot(x, y)\n",
    "plt.title(\"How long the WR has been held in each category\")\n",
    "plt.xlabel(\"Category\")\n",
    "plt.ylabel(\"# of Days the WR Has Been Held\")\n",
    "plt.show()"
   ]
  },
  {
   "cell_type": "code",
   "execution_count": null,
   "metadata": {},
   "outputs": [],
   "source": [
    "#connObj.close"
   ]
  }
 ],
 "metadata": {
  "colab": {
   "provenance": [],
   "toc_visible": true
  },
  "kernelspec": {
   "display_name": "Python 3 (ipykernel)",
   "language": "python",
   "name": "python3"
  },
  "language_info": {
   "codemirror_mode": {
    "name": "ipython",
    "version": 3
   },
   "file_extension": ".py",
   "mimetype": "text/x-python",
   "name": "python",
   "nbconvert_exporter": "python",
   "pygments_lexer": "ipython3",
   "version": "3.12.0"
  }
 },
 "nbformat": 4,
 "nbformat_minor": 4
}
