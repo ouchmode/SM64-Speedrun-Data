{
  "nbformat": 4,
  "nbformat_minor": 0,
  "metadata": {
    "colab": {
      "provenance": [],
      "authorship_tag": "ABX9TyP5x+cVt406IuuAy2I34mOW",
      "include_colab_link": true
    },
    "kernelspec": {
      "name": "python3",
      "display_name": "Python 3"
    },
    "language_info": {
      "name": "python"
    }
  },
  "cells": [
    {
      "cell_type": "markdown",
      "metadata": {
        "id": "view-in-github",
        "colab_type": "text"
      },
      "source": [
        "<a href=\"https://colab.research.google.com/github/ouchmode/SM64-Speedrun-Data/blob/main/SM64_Speedruns.ipynb\" target=\"_parent\"><img src=\"https://colab.research.google.com/assets/colab-badge.svg\" alt=\"Open In Colab\"/></a>"
      ]
    },
    {
      "cell_type": "code",
      "source": [
        "#Connecting to Google Drive to access dataset files saved there.\n",
        "from google.colab import drive\n",
        "drive.mount('/content/drive')"
      ],
      "metadata": {
        "colab": {
          "base_uri": "https://localhost:8080/"
        },
        "id": "72tzcee4GQmk",
        "outputId": "da8f3b39-e7b8-45c6-f9ec-71da7c7683a2"
      },
      "execution_count": 8,
      "outputs": [
        {
          "output_type": "stream",
          "name": "stdout",
          "text": [
            "Mounted at /content/drive\n"
          ]
        }
      ]
    },
    {
      "cell_type": "code",
      "execution_count": 11,
      "metadata": {
        "colab": {
          "base_uri": "https://localhost:8080/",
          "height": 140
        },
        "id": "gO58vcTKDuFO",
        "outputId": "1899f450-5c4b-4b82-fe12-6122b3fb331d"
      },
      "outputs": [
        {
          "output_type": "error",
          "ename": "SyntaxError",
          "evalue": "ignored",
          "traceback": [
            "\u001b[0;36m  File \u001b[0;32m\"<ipython-input-11-056f0dd1b441>\"\u001b[0;36m, line \u001b[0;32m5\u001b[0m\n\u001b[0;31m    with open('/content/drive/My Drive/foo.txt', 'w') as f:\u001b[0m\n\u001b[0m                                                           ^\u001b[0m\n\u001b[0;31mSyntaxError\u001b[0m\u001b[0;31m:\u001b[0m incomplete input\n"
          ]
        }
      ],
      "source": [
        "\n",
        "\n",
        "import pandas as pd\n",
        "import csv, sqlite3\n",
        "import os\n",
        "\n",
        "with open('/content/drive/MyDrive/foo.txt', 'w') as f:"
      ]
    },
    {
      "cell_type": "code",
      "source": [
        "%cwd"
      ],
      "metadata": {
        "colab": {
          "base_uri": "https://localhost:8080/"
        },
        "id": "0tHIlEIRFVRy",
        "outputId": "4a76e235-5c50-4472-d574-7983f9dee6e6"
      },
      "execution_count": 10,
      "outputs": [
        {
          "output_type": "stream",
          "name": "stderr",
          "text": [
            "UsageError: Line magic function `%cwd` not found.\n"
          ]
        }
      ]
    }
  ]
}